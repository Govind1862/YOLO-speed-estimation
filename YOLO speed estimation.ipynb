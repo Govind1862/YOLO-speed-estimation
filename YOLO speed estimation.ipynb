{
 "cells": [
  {
   "cell_type": "code",
   "execution_count": null,
   "id": "0f9e0ff0-9346-4983-ab06-af54649f47e5",
   "metadata": {},
   "outputs": [],
   "source": []
  },
  {
   "cell_type": "code",
   "execution_count": 6,
   "id": "bf1336f4-91b0-4669-a747-b0d6a7480178",
   "metadata": {},
   "outputs": [
    {
     "ename": "SyntaxError",
     "evalue": "unexpected EOF while parsing (8498897.py, line 10)",
     "output_type": "error",
     "traceback": [
      "\u001b[0;36m  Cell \u001b[0;32mIn[6], line 10\u001b[0;36m\u001b[0m\n\u001b[0;31m    vehicle_class=['car',\u001b[0m\n\u001b[0m                         ^\u001b[0m\n\u001b[0;31mSyntaxError\u001b[0m\u001b[0;31m:\u001b[0m unexpected EOF while parsing\n"
     ]
    }
   ],
   "source": [
    "import time\n",
    "import numpy as np\n",
    "import cv2 as cv\n",
    "from ultralytics import YOLO\n",
    "from scipy.spatial import distance as dist\n",
    "\n",
    "model = YOLO(\"yolov8n.pt\")\n",
    "cap = cv.VideoCapture(0)\n",
    "\n",
    "vehicle_class=['car','bike','truck','bus']\n"
   ]
  },
  {
   "cell_type": "code",
   "execution_count": null,
   "id": "7ec90bf6-1036-439b-b945-43453801184c",
   "metadata": {},
   "outputs": [],
   "source": []
  }
 ],
 "metadata": {
  "kernelspec": {
   "display_name": "Python 3 (ipykernel)",
   "language": "python",
   "name": "python3"
  },
  "language_info": {
   "codemirror_mode": {
    "name": "ipython",
    "version": 3
   },
   "file_extension": ".py",
   "mimetype": "text/x-python",
   "name": "python",
   "nbconvert_exporter": "python",
   "pygments_lexer": "ipython3",
   "version": "3.8.20"
  }
 },
 "nbformat": 4,
 "nbformat_minor": 5
}
